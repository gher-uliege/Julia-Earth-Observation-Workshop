{
 "cells": [
  {
   "cell_type": "markdown",
   "id": "aa0b1233",
   "metadata": {},
   "source": [
    "# DIVAnd analysis for the Azores region\n",
    "\n",
    "This example performs a temperature analysis using World Ocean Database\n",
    "data from the Azores region.\n",
    "The analysis is done for every season for the data from 2010 until end of 2014.\n",
    "\n",
    "For testing purposes, let's start with a a limited number of vertical levels."
   ]
  },
  {
   "cell_type": "code",
   "execution_count": null,
   "id": "2e609def",
   "metadata": {},
   "outputs": [],
   "source": [
    "using DIVAnd\n",
    "using DataStructures\n",
    "using Dates\n",
    "using Downloads: download\n",
    "using NCDatasets\n",
    "using PyPlot\n",
    "using Statistics"
   ]
  },
  {
   "cell_type": "markdown",
   "id": "1259a218",
   "metadata": {},
   "source": [
    "Download the file `Temperature.nc` (if it is not already present). It will be placed in the same directory as this notebook. This file based on the World Ocean Database."
   ]
  },
  {
   "cell_type": "code",
   "execution_count": null,
   "id": "99a1e094",
   "metadata": {},
   "outputs": [],
   "source": [
    "fname = \"Azores-WOD-Temperature.nc\"\n",
    "if !isfile(fname)\n",
    "    download(\"https://dox.ulg.ac.be/index.php/s/W5jIFPjXfSanRiO/download\",fname)\n",
    "else\n",
    "    @info(\"Data file already downloaded\")\n",
    "end"
   ]
  },
  {
   "cell_type": "markdown",
   "id": "5837831e",
   "metadata": {},
   "source": [
    "Download the bathymetry if it is not already present"
   ]
  },
  {
   "cell_type": "code",
   "execution_count": null,
   "id": "6a43f411",
   "metadata": {},
   "outputs": [],
   "source": [
    "bathname = \"gebco_30sec_16.nc\"\n",
    "\n",
    "if !isfile(bathname)\n",
    "    download(\"https://dox.ulg.ac.be/index.php/s/U0pqyXhcQrXjEUX/download\",bathname)\n",
    "else\n",
    "    @info(\"Bathymetry file already downloaded\")\n",
    "end\n",
    "\n",
    "bathisglobal = true"
   ]
  },
  {
   "cell_type": "markdown",
   "id": "1ee999d6",
   "metadata": {},
   "source": [
    "Load the tmperature data from the file"
   ]
  },
  {
   "cell_type": "code",
   "execution_count": null,
   "id": "4052c3f6",
   "metadata": {},
   "outputs": [],
   "source": [
    "varname = \"Temperature\"\n",
    "obsval,obslon,obslat,obsdepth,obstime,obsid = DIVAnd.loadobs(Float64,fname,varname);\n",
    "@show size(obsval);"
   ]
  },
  {
   "cell_type": "markdown",
   "id": "10983774",
   "metadata": {},
   "source": [
    "The file contains about 1 000 000 measurements.\n",
    "Print some basic statistics about the data. Keep an eye on the ranges."
   ]
  },
  {
   "cell_type": "code",
   "execution_count": null,
   "id": "70507cf3",
   "metadata": {},
   "outputs": [],
   "source": [
    "checkobs((obslon,obslat,obsdepth,obstime),obsval,obsid)"
   ]
  },
  {
   "cell_type": "markdown",
   "id": "52e6a75a",
   "metadata": {},
   "source": [
    "Define the resolution. It is recommended to start with a low resolution and increase the resolution when the results are suitable."
   ]
  },
  {
   "cell_type": "code",
   "execution_count": null,
   "id": "80e3fe9f",
   "metadata": {},
   "outputs": [],
   "source": [
    "dx = 0.1 # longitude resolution in degrees\n",
    "dy = 0.1 # latitude resolution in degrees"
   ]
  },
  {
   "cell_type": "markdown",
   "id": "953b4023",
   "metadata": {},
   "source": [
    "Define the bounding box of the spatial domain"
   ]
  },
  {
   "cell_type": "code",
   "execution_count": null,
   "id": "fb448fd4",
   "metadata": {},
   "outputs": [],
   "source": [
    "lonr = -33:dx:-24    # the range of longitudes (start:step:end)\n",
    "latr = 33.0:dy:40.0  # the range of latitudes (start:step:end)"
   ]
  },
  {
   "cell_type": "markdown",
   "id": "5af8b7ff",
   "metadata": {},
   "source": [
    "Define the depth levels"
   ]
  },
  {
   "cell_type": "code",
   "execution_count": null,
   "id": "7361adcc",
   "metadata": {},
   "outputs": [],
   "source": [
    "depthr = [0.,5., 10., 15., 20., 25., 30., 40., 50., 66,\n",
    "    75, 85, 100, 112, 125, 135, 150, 175, 200, 225, 250,\n",
    "    275, 300, 350, 400, 450, 500, 550, 600, 650, 700, 750,\n",
    "    800, 850, 900, 950, 1000, 1050, 1100, 1150, 1200, 1250,\n",
    "    1300, 1350, 1400, 1450, 1500, 1600, 1750, 1850, 2000]\n",
    "\n",
    "# or for testing just a few levels\n",
    "depthr = [0.,20.,50.]\n",
    "\n",
    "@show size(depthr);"
   ]
  },
  {
   "cell_type": "markdown",
   "id": "f7e3d8f0",
   "metadata": {},
   "source": [
    "The error variance of the observation (scaled by the error variance of the background).\n",
    "Note that this is the inverse of the signal-to-noise ratio used in the 2D version of `DIVA`."
   ]
  },
  {
   "cell_type": "code",
   "execution_count": null,
   "id": "cc49aa93",
   "metadata": {},
   "outputs": [],
   "source": [
    "epsilon2 = 0.2;"
   ]
  },
  {
   "cell_type": "markdown",
   "id": "29a8c542",
   "metadata": {},
   "source": [
    "* Correlation length in meters (in x, y, and z directions)\n",
    "* 300_000. is the same as 300000., but the former is easier to read."
   ]
  },
  {
   "cell_type": "code",
   "execution_count": null,
   "id": "12a8f89a",
   "metadata": {},
   "outputs": [],
   "source": [
    "sz = (length(lonr),length(latr),length(depthr))\n",
    "\n",
    "lenx = fill(300_000.,sz)\n",
    "leny = fill(300_000.,sz)\n",
    "lenz = [10+depthr[k]/15 for i = 1:sz[1], j = 1:sz[2], k = 1:sz[3]];"
   ]
  },
  {
   "cell_type": "markdown",
   "id": "55c4b93d",
   "metadata": {},
   "source": [
    "Year range and averaging time window"
   ]
  },
  {
   "cell_type": "code",
   "execution_count": null,
   "id": "36f57aec",
   "metadata": {},
   "outputs": [],
   "source": [
    "\n",
    "# winter: January-March    1,2,3\n",
    "# spring: April-June       4,5,6\n",
    "# summer: July-September   7,8,9\n",
    "# autumn: October-December 10,11,12\n",
    "\n",
    "monthlists = [\n",
    "    [1,2,3],\n",
    "    [4,5,6],\n",
    "    [7,8,9],\n",
    "    [10,11,12]\n",
    "];"
   ]
  },
  {
   "cell_type": "markdown",
   "id": "41da79a4",
   "metadata": {},
   "source": [
    "* Other possible choises for the time selector are `TimeSelectorYearListMonthList` and `TimeSelectorRunningAverage`.\n",
    "* Type `?` followed by these functions for more information"
   ]
  },
  {
   "cell_type": "code",
   "execution_count": null,
   "id": "ee221d60",
   "metadata": {},
   "outputs": [],
   "source": [
    "TS = TimeSelectorYearListMonthList([2010:2015],monthlists)\n",
    "\n",
    "# File name based on the variable (but all spaces are replaced by _)\n",
    "filename = \"DIVAnd-analysis-$(lowercase(varname)).nc\"\n",
    "\n",
    "# Time origin for the NetCDF file\n",
    "timeorigin = DateTime(1900,1,1,0,0,0)\n",
    "\n",
    "# Extract the bathymetry for plotting\n",
    "bx,by,b = DIVAnd.extract_bath(bathname,bathisglobal,lonr,latr);"
   ]
  },
  {
   "cell_type": "markdown",
   "id": "0277001d",
   "metadata": {},
   "source": [
    "A list of all metadata"
   ]
  },
  {
   "cell_type": "code",
   "execution_count": null,
   "id": "0e72054b",
   "metadata": {},
   "outputs": [],
   "source": [
    "metadata = OrderedDict(\n",
    "    # Name of the project (SeaDataCloud, SeaDataNet, EMODNET-chemistry, ...)\n",
    "    \"project\" => \"SeaDataCloud\",\n",
    "\n",
    "    # URN code for the institution EDMO registry,\n",
    "    # e.g. SDN:EDMO::1579\n",
    "    \"institution_urn\" => \"SDN:EDMO::1579\",\n",
    "\n",
    "    # Production group\n",
    "    #\"production\" => \"Diva group\",\n",
    "\n",
    "    # Name and emails from authors\n",
    "    \"Author_e-mail\" => [\"Your Name1 <name1@example.com>\", \"Other Name <name2@example.com>\"],\n",
    "\n",
    "    # Source of the observation\n",
    "    \"source\" => \"observational data from SeaDataNet/EMODNet Chemistry Data Network\",\n",
    "\n",
    "    # Additional comment\n",
    "    \"comment\" => \"...\",\n",
    "\n",
    "    # SeaDataNet Vocabulary P35 URN\n",
    "    # http://seadatanet.maris2.nl/v_bodc_vocab_v2/search.asp?lib=p35\n",
    "    # example: SDN:P35::WATERTEMP\n",
    "    \"parameter_keyword_urn\" => \"SDN:P35::WATERTEMP\",\n",
    "\n",
    "    # List of SeaDataNet Parameter Discovery Vocabulary P02 URNs\n",
    "    # http://seadatanet.maris2.nl/v_bodc_vocab_v2/search.asp?lib=p02\n",
    "    # example: [\"SDN:P02::TEMP\"]\n",
    "    \"search_keywords_urn\" => [\"SDN:P02::TEMP\"],\n",
    "\n",
    "    # List of SeaDataNet Vocabulary C19 area URNs\n",
    "    # SeaVoX salt and fresh water body gazetteer (C19)\n",
    "    # http://seadatanet.maris2.nl/v_bodc_vocab_v2/search.asp?lib=C19\n",
    "    # example: [\"SDN:C19::3_1\"]\n",
    "    \"area_keywords_urn\" => [\"SDN:C19::3_3\"],\n",
    "\n",
    "    \"product_version\" => \"1.0\",\n",
    "\n",
    "    \"product_code\" => \"something-to-decide\",\n",
    "\n",
    "    # bathymetry source acknowledgement\n",
    "    # see, e.g.\n",
    "    # * EMODnet Bathymetry Consortium (2016): EMODnet Digital Bathymetry (DTM).\n",
    "    # https://doi.org/10.12770/c7b53704-999d-4721-b1a3-04ec60c87238\n",
    "    #\n",
    "    # taken from\n",
    "    # http://www.emodnet-bathymetry.eu/data-products/acknowledgement-in-publications\n",
    "    #\n",
    "    # * The GEBCO Digital Atlas published by the British Oceanographic Data Centre on behalf of IOC and IHO, 2003\n",
    "    #\n",
    "    # taken from\n",
    "    # https://www.bodc.ac.uk/projects/data_management/international/gebco/gebco_digital_atlas/copyright_and_attribution/\n",
    "\n",
    "    \"bathymetry_source\" => \"The GEBCO Digital Atlas published by the British Oceanographic Data Centre on behalf of IOC and IHO, 2003\",\n",
    "\n",
    "    # NetCDF CF standard name\n",
    "    # http://cfconventions.org/Data/cf-standard-names/current/build/cf-standard-name-table.html\n",
    "    # example \"standard_name\" = \"sea_water_temperature\",\n",
    "    \"netcdf_standard_name\" => \"sea_water_temperature\",\n",
    "\n",
    "    \"netcdf_long_name\" => \"sea water temperature\",\n",
    "\n",
    "    \"netcdf_units\" => \"degree Celsius\",\n",
    "\n",
    "    # Abstract for the product\n",
    "    \"abstract\" => \"...\",\n",
    "\n",
    "    # This option provides a place to acknowledge various types of support for the\n",
    "    # project that produced the data\n",
    "    \"acknowledgement\" => \"...\",\n",
    "\n",
    "    \"documentation\" => \"https://doi.org/doi_of_doc\",\n",
    "\n",
    "    # Digital Object Identifier of the data product\n",
    "    \"doi\" => \"...\")"
   ]
  },
  {
   "cell_type": "markdown",
   "id": "0b456e15",
   "metadata": {},
   "source": [
    "* Make the NetCDF global and variable attributes based on the metadata.\n",
    "* Custom attributes can be added by changing `ncglobalattrib`:\n",
    "\n",
    "```julia\n",
    "ncglobalattrib[\"attribute_name\"] = \"attribute_value\"\n",
    "```\n"
   ]
  },
  {
   "cell_type": "code",
   "execution_count": null,
   "id": "dcf87b5a",
   "metadata": {},
   "outputs": [],
   "source": [
    "ncglobalattrib,ncvarattrib = SDNMetadata(metadata,filename,varname,lonr,latr)"
   ]
  },
  {
   "cell_type": "markdown",
   "id": "88f1beab",
   "metadata": {},
   "source": [
    "Plot the results near the surface for debugging and quick inspection.\n",
    "\n",
    "To generate the plots, we define a function `plotres` (see next cell) that will be used as an optional argument when we call the interpolation with `DIVAnd`."
   ]
  },
  {
   "cell_type": "code",
   "execution_count": null,
   "id": "2d45d808",
   "metadata": {},
   "outputs": [],
   "source": [
    "function plotres(timeindex,sel,fit,erri)\n",
    "    tmp = copy(fit)\n",
    "    tmp[erri .> .5] .= NaN;\n",
    "    figure(figsize = (10,5))\n",
    "\n",
    "    # select the data near the surface\n",
    "    selsurface = sel .& (obsdepth .< 5)\n",
    "    vmin,vmax = quantile(obsval[selsurface],(0.01,0.99))\n",
    "\n",
    "    # plot the data\n",
    "    subplot(1,2,1)\n",
    "    scatter(obslon[selsurface],obslat[selsurface],10,obsval[selsurface];\n",
    "            vmin = vmin, vmax = vmax)\n",
    "    xlim(minimum(lonr),maximum(lonr))\n",
    "    ylim(minimum(latr),maximum(latr))\n",
    "    colorbar(orientation=\"horizontal\")\n",
    "    contourf(bx,by,b', levels = [-1e5,0],colors = [[.5,.5,.5]])\n",
    "    gca().set_aspect(1/cosd(mean(by)))\n",
    "    title(\"Observations (season $(timeindex))\")\n",
    "\n",
    "    # plot the analysis\n",
    "    subplot(1,2,2)\n",
    "    pcolor(lonr,latr,permutedims(tmp[:,:,1],[2,1]);\n",
    "           vmin = vmin, vmax = vmax)\n",
    "    colorbar(orientation=\"horizontal\")\n",
    "    contourf(bx,by,b', levels = [-1e5,0],colors = [[.5,.5,.5]])\n",
    "    gca().set_aspect(1/cosd(mean(by)))\n",
    "    title(\"Analysis (season $(timeindex))\")\n",
    "end"
   ]
  },
  {
   "cell_type": "markdown",
   "id": "75482d52",
   "metadata": {},
   "source": [
    "Launch the analysis. Plotting can be disabled by commenting the line containing `plotres`.\n",
    "\n",
    "Here we use `diva3d`, which performs a series of 3D analyses (lon, lat and depth) for the different periods defined previously."
   ]
  },
  {
   "cell_type": "code",
   "execution_count": null,
   "id": "4060c768",
   "metadata": {},
   "outputs": [],
   "source": [
    "if isfile(filename)\n",
    "   rm(filename) # delete the previous analysis\n",
    "end\n",
    "\n",
    "@time dbinfo = diva3d(\n",
    "    (lonr,latr,depthr,TS),\n",
    "    (obslon,obslat,obsdepth,obstime),\n",
    "    obsval,\n",
    "    (lenx,leny,lenz),\n",
    "    epsilon2,\n",
    "    filename,varname,\n",
    "    bathname = bathname,\n",
    "    bathisglobal = bathisglobal,\n",
    "    plotres = plotres,\n",
    "    ncvarattrib = ncvarattrib,\n",
    "    ncglobalattrib = ncglobalattrib,\n",
    "    timeorigin = timeorigin,\n",
    "    QCMETHOD = 0,\n",
    ");\n",
    "\n",
    "\n",
    "residual = dbinfo[:residuals];"
   ]
  },
  {
   "cell_type": "markdown",
   "id": "1bd0680c",
   "metadata": {},
   "source": [
    "This generates many plots (one for every time instance).\n",
    "The number in the title is the time index starting with the first season and year.\n"
   ]
  },
  {
   "cell_type": "markdown",
   "id": "b5944672",
   "metadata": {},
   "source": [
    "Save the observation metadata in the NetCDF file"
   ]
  },
  {
   "cell_type": "code",
   "execution_count": null,
   "id": "9e9e5383",
   "metadata": {},
   "outputs": [],
   "source": [
    "DIVAnd.saveobs(filename,(obslon,obslat,obsdepth,obstime),obsid)"
   ]
  },
  {
   "cell_type": "markdown",
   "id": "fb1280d7",
   "metadata": {},
   "source": [
    "# Residuals"
   ]
  },
  {
   "cell_type": "markdown",
   "id": "03248aaf",
   "metadata": {},
   "source": [
    "Range of the residuals"
   ]
  },
  {
   "cell_type": "code",
   "execution_count": null,
   "id": "17851161",
   "metadata": {},
   "outputs": [],
   "source": [
    "res = dbinfo[:residuals]\n",
    "@show extrema(res)"
   ]
  },
  {
   "cell_type": "markdown",
   "id": "7b9d37da",
   "metadata": {},
   "source": [
    "Residuals with NaNs removed"
   ]
  },
  {
   "cell_type": "code",
   "execution_count": null,
   "id": "bc5987a2",
   "metadata": {},
   "outputs": [],
   "source": [
    "res = residual[.!isnan.(residual)]\n",
    "\n",
    "@show extrema(res);\n",
    "@show quantile(res,[0.01,0.99]);"
   ]
  },
  {
   "cell_type": "markdown",
   "id": "3456fd43",
   "metadata": {},
   "source": [
    "Get the identifier of the anomalous point"
   ]
  },
  {
   "cell_type": "code",
   "execution_count": null,
   "id": "33f54b7c",
   "metadata": {},
   "outputs": [],
   "source": [
    "i = findfirst(minimum(res) .== residual)\n",
    "obsid[i]"
   ]
  },
  {
   "cell_type": "markdown",
   "id": "5b8c2357",
   "metadata": {},
   "source": [
    "For future analysis the residuals can also be saved."
   ]
  },
  {
   "cell_type": "code",
   "execution_count": null,
   "id": "a859b8d0",
   "metadata": {},
   "outputs": [],
   "source": [
    "resname = \"$(varname)_residuals.nc\"\n",
    "if isfile(resname)\n",
    "   rm(resname) # delete previous file if present\n",
    "end\n",
    "\n",
    "DIVAnd.saveobs(resname,\"$(varname)_residual\",residual,(obslon,obslat,obsdepth,obstime),obsid)"
   ]
  },
  {
   "cell_type": "markdown",
   "id": "7c62105c",
   "metadata": {},
   "source": [
    "* Visualize the residuals (observations minus analysis)\n",
    "* Change depth and time\n",
    "* Adjust colorbare range (`clim`) to see large residuals"
   ]
  },
  {
   "cell_type": "code",
   "execution_count": null,
   "id": "759aface",
   "metadata": {},
   "outputs": [],
   "source": [
    "figure()\n",
    "sel = (obsdepth .<  5) .& (Dates.month.(obstime) .== 1)\n",
    "print(\"Number of data points: $(sum(sel))\")\n",
    "scatter(obslon[sel],obslat[sel],10,residual[sel]; cmap=\"RdBu_r\")\n",
    "clim(-3,3)\n",
    "# set the correct aspect ratio\n",
    "gca().set_aspect(1/cosd(mean(latr)))\n",
    "colorbar();\n",
    "contourf(bx,by,b', levels = [-1e5,0],colors = [[.5,.5,.5]])"
   ]
  },
  {
   "cell_type": "markdown",
   "id": "bda1e277",
   "metadata": {},
   "source": [
    "DIVAnd computes also a quality score (a-dimensional)\n",
    "which can be used to remove bad data (or flag)"
   ]
  },
  {
   "cell_type": "code",
   "execution_count": null,
   "id": "3a1a0f99",
   "metadata": {},
   "outputs": [],
   "source": [
    "figure()\n",
    "qcvalues = dbinfo[:qcvalues]\n",
    "scatter(obslon[sel],obslat[sel],10,qcvalues[sel]; cmap=\"RdBu_r\")\n",
    "# set the correct aspect ratio\n",
    "gca().set_aspect(1/cosd(mean(latr)))\n",
    "colorbar()\n",
    "contourf(bx,by,b', levels = [-1e5,0],colors = [[.5,.5,.5]])"
   ]
  },
  {
   "cell_type": "markdown",
   "id": "e2a01468",
   "metadata": {},
   "source": [
    "Histgram of the quality score"
   ]
  },
  {
   "cell_type": "code",
   "execution_count": null,
   "id": "b15ddb1e",
   "metadata": {},
   "outputs": [],
   "source": [
    "figure()\n",
    "hist(qcvalues,1000)\n",
    "xlim(0,20)\n",
    "xlabel(\"number of data points\")\n",
    "ylabel(\"qc value\")"
   ]
  },
  {
   "cell_type": "markdown",
   "id": "ae3275a4",
   "metadata": {},
   "source": [
    "Choose a maximum value of the quality score"
   ]
  },
  {
   "cell_type": "code",
   "execution_count": null,
   "id": "f9a01ac4",
   "metadata": {},
   "outputs": [],
   "source": [
    "max_qcvalue = 7\n",
    "good = qcvalues .< max_qcvalue;"
   ]
  },
  {
   "cell_type": "markdown",
   "id": "74b23db5",
   "metadata": {},
   "source": [
    "# Final analysis\n",
    "Repeat the analysis keeping only the good data"
   ]
  },
  {
   "cell_type": "code",
   "execution_count": null,
   "id": "4f272d6a",
   "metadata": {},
   "outputs": [],
   "source": [
    "obslon,obslat,obsdepth,obstime = obslon[good],obslat[good],obsdepth[good],obstime[good]\n",
    "obsval = obsval[good];"
   ]
  },
  {
   "cell_type": "code",
   "execution_count": null,
   "id": "04763951",
   "metadata": {},
   "outputs": [],
   "source": [
    "@time dbinfo = diva3d(\n",
    "    (lonr,latr,depthr,TS),\n",
    "    (obslon,obslat,obsdepth,obstime),\n",
    "    obsval,\n",
    "    (lenx,leny,lenz),\n",
    "    epsilon2,\n",
    "    filename,varname,\n",
    "    bathname = bathname,\n",
    "    bathisglobal = bathisglobal,\n",
    "    plotres = plotres,\n",
    "    ncvarattrib = ncvarattrib,\n",
    "    ncglobalattrib = ncglobalattrib,\n",
    "    timeorigin = timeorigin,\n",
    ");"
   ]
  }
 ],
 "metadata": {
  "kernelspec": {
   "display_name": "Julia 1.8.2",
   "language": "julia",
   "name": "julia-1.8"
  }
 },
 "nbformat": 4,
 "nbformat_minor": 5
}
